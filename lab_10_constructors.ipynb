{
 "cells": [
  {
   "cell_type": "code",
   "execution_count": 2,
   "id": "f7132582",
   "metadata": {},
   "outputs": [],
   "source": [
    "class Animal:\n",
    "    def __init__(self):\n",
    "        print(\"Im trying to learn Polish\")\n",
    "    \n"
   ]
  },
  {
   "cell_type": "code",
   "execution_count": 4,
   "id": "26464b6c",
   "metadata": {},
   "outputs": [
    {
     "name": "stdout",
     "output_type": "stream",
     "text": [
      "Im trying to learn Polish\n",
      "Im trying to learn Polish\n",
      "Im trying to learn Polish\n"
     ]
    }
   ],
   "source": [
    "animal1 = Animal()\n",
    "animal2 = Animal()\n",
    "animal3 = Animal()"
   ]
  },
  {
   "cell_type": "code",
   "execution_count": 16,
   "id": "21fbff86",
   "metadata": {},
   "outputs": [],
   "source": [
    "class Car:\n",
    "    def __init__(self,brand, model):\n",
    "        self.brand = brand\n",
    "        self.model = model\n"
   ]
  },
  {
   "cell_type": "code",
   "execution_count": 17,
   "id": "aa46e22f",
   "metadata": {},
   "outputs": [],
   "source": [
    "car1 = Car(\"Renault\", \"Scenic\")"
   ]
  },
  {
   "cell_type": "code",
   "execution_count": 18,
   "id": "72f801fb",
   "metadata": {},
   "outputs": [],
   "source": [
    "car2 = Car(\"Bmw\", \"e92 cabrio\")"
   ]
  },
  {
   "cell_type": "code",
   "execution_count": 19,
   "id": "6791e37c",
   "metadata": {},
   "outputs": [],
   "source": [
    "car3 = Car(\"Audi\",\"rs6\")"
   ]
  },
  {
   "cell_type": "markdown",
   "id": "25f870fb",
   "metadata": {},
   "source": [
    "## Task for extra point - complex constructor"
   ]
  },
  {
   "cell_type": "code",
   "execution_count": 11,
   "id": "002ecfce",
   "metadata": {},
   "outputs": [
    {
     "name": "stdout",
     "output_type": "stream",
     "text": [
      "House in Samsun, Turkey on Adalet str., 100.yıl Bul., 2 floor(s), furnished with: sofa, table, bed, wardrobe\n",
      "House in Warszawa, Poland on Grojecka 128, 1 floor(s), furnished with: desk, chair, table\n",
      "House in Olsztyn, Poland on ulica Kortowo Akademik, 1 floor(s), furnished with: table, bed, wardrobe\n"
     ]
    }
   ],
   "source": [
    "class House:\n",
    "    def __init__(self, location, floors, furnitures):\n",
    "        self.location = location\n",
    "        self.floors = floors\n",
    "        self.furnitures = furnitures\n",
    "\n",
    "    def __str__(self):\n",
    "        return (f\"House in {self.location['city']}, {self.location['country']} on {self.location['street']}, \"\n",
    "                f\"{self.floors} floor(s), furnished with: {', '.join(self.furnitures)}\")\n",
    "\n",
    "house1 = House(\n",
    "    location={'country': 'Turkey', 'city': 'Samsun', 'street': 'Adalet str., 100.yıl Bul.'},\n",
    "    floors=2,\n",
    "    furnitures=['sofa', 'table', 'bed', 'wardrobe']\n",
    ")\n",
    "\n",
    "house2 = House(\n",
    "    location={'country': 'Poland', 'city': 'Warszawa', 'street': 'Grojecka 128'},\n",
    "    floors=1,\n",
    "    furnitures=['desk', 'chair', 'table']\n",
    ")\n",
    "\n",
    "house3 = House(\n",
    "    location={'country': 'Poland', 'city': 'Olsztyn', 'street': 'ulica Kortowo Akademik'},\n",
    "    floors=1,\n",
    "    furnitures=['table', 'bed', 'wardrobe']\n",
    ")\n",
    "\n",
    "print(house1)\n",
    "print(house2)\n",
    "print(house3)\n",
    "\n"
   ]
  }
 ],
 "metadata": {
  "kernelspec": {
   "display_name": "Python 3",
   "language": "python",
   "name": "python3"
  },
  "language_info": {
   "codemirror_mode": {
    "name": "ipython",
    "version": 3
   },
   "file_extension": ".py",
   "mimetype": "text/x-python",
   "name": "python",
   "nbconvert_exporter": "python",
   "pygments_lexer": "ipython3",
   "version": "3.12.1"
  }
 },
 "nbformat": 4,
 "nbformat_minor": 5
}
