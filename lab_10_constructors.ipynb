{
 "cells": [
  {
   "cell_type": "code",
   "execution_count": 2,
   "id": "f7132582",
   "metadata": {},
   "outputs": [],
   "source": [
    "class Animal:\n",
    "    def __init__(self):\n",
    "        print(\"Im trying to learn Polish\")\n",
    "    \n"
   ]
  },
  {
   "cell_type": "code",
   "execution_count": 4,
   "id": "26464b6c",
   "metadata": {},
   "outputs": [
    {
     "name": "stdout",
     "output_type": "stream",
     "text": [
      "Im trying to learn Polish\n",
      "Im trying to learn Polish\n",
      "Im trying to learn Polish\n"
     ]
    }
   ],
   "source": [
    "animal1 = Animal()\n",
    "animal2 = Animal()\n",
    "animal3 = Animal()"
   ]
  },
  {
   "cell_type": "code",
   "execution_count": 16,
   "id": "21fbff86",
   "metadata": {},
   "outputs": [],
   "source": [
    "class Car:\n",
    "    def __init__(self,brand, model):\n",
    "        self.brand = brand\n",
    "        self.model = model\n"
   ]
  },
  {
   "cell_type": "code",
   "execution_count": 17,
   "id": "aa46e22f",
   "metadata": {},
   "outputs": [],
   "source": [
    "car1 = Car(\"Renault\", \"Scenic\")"
   ]
  },
  {
   "cell_type": "code",
   "execution_count": 18,
   "id": "72f801fb",
   "metadata": {},
   "outputs": [],
   "source": [
    "car2 = Car(\"Bmw\", \"e92 cabrio\")"
   ]
  },
  {
   "cell_type": "code",
   "execution_count": 19,
   "id": "6791e37c",
   "metadata": {},
   "outputs": [],
   "source": [
    "car3 = Car(\"Audi\",\"rs6\")"
   ]
  },
  {
   "cell_type": "markdown",
   "id": "25f870fb",
   "metadata": {},
   "source": [
    "## Task for extra point - complex constructor"
   ]
  },
  {
   "cell_type": "code",
   "execution_count": null,
   "id": "002ecfce",
   "metadata": {},
   "outputs": [],
   "source": [
    "class House:\n",
    "    def __init__(self,location, floors, furnitures)\n"
   ]
  }
 ],
 "metadata": {
  "kernelspec": {
   "display_name": "Python 3",
   "language": "python",
   "name": "python3"
  },
  "language_info": {
   "codemirror_mode": {
    "name": "ipython",
    "version": 3
   },
   "file_extension": ".py",
   "mimetype": "text/x-python",
   "name": "python",
   "nbconvert_exporter": "python",
   "pygments_lexer": "ipython3",
   "version": "3.12.1"
  }
 },
 "nbformat": 4,
 "nbformat_minor": 5
}
