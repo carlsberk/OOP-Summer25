{
 "cells": [
  {
   "cell_type": "code",
   "execution_count": 1,
   "id": "df5093e8",
   "metadata": {},
   "outputs": [
    {
     "name": "stdout",
     "output_type": "stream",
     "text": [
      "Hello! I'm a student.\n"
     ]
    }
   ],
   "source": [
    "class Student:\n",
    "    def hello(self):\n",
    "        print(\"Hello! I'm a student.\")\n",
    "\n",
    "s = Student()\n",
    "s.hello()\n"
   ]
  },
  {
   "cell_type": "code",
   "execution_count": 2,
   "id": "f69ea2cf",
   "metadata": {},
   "outputs": [],
   "source": [
    "class Student:\n",
    "    def __init__(self, name, index_number):\n",
    "        self.name = name\n",
    "        self.index_number = index_number\n",
    "\n",
    "    def hello(self):\n",
    "        print(f\"Hello! My name is {self.name}, and my index number is {self.index_number}.\")\n"
   ]
  },
  {
   "cell_type": "code",
   "execution_count": 3,
   "id": "ccb703c6",
   "metadata": {},
   "outputs": [
    {
     "name": "stdout",
     "output_type": "stream",
     "text": [
      "Hello! My name is Berk, and my index number is 35236.\n"
     ]
    }
   ],
   "source": [
    "#IT WILL BE: Hello! My name is Berk, and my index number is 35236. \n",
    "student1 = Student(\"Berk\", \"35236\")\n",
    "student1.hello()\n"
   ]
  }
 ],
 "metadata": {
  "kernelspec": {
   "display_name": "Python 3",
   "language": "python",
   "name": "python3"
  },
  "language_info": {
   "codemirror_mode": {
    "name": "ipython",
    "version": 3
   },
   "file_extension": ".py",
   "mimetype": "text/x-python",
   "name": "python",
   "nbconvert_exporter": "python",
   "pygments_lexer": "ipython3",
   "version": "3.12.1"
  }
 },
 "nbformat": 4,
 "nbformat_minor": 5
}
