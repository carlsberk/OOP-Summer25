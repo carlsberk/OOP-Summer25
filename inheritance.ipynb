{
 "cells": [
  {
   "cell_type": "code",
   "execution_count": null,
   "id": "27e1e846",
   "metadata": {},
   "outputs": [],
   "source": [
    "class Parent:\n",
    "    def speak(self):\n",
    "        print(\"I am the parent.\")\n",
    "\n",
    "class Child(Parent):\n",
    "    def play(self):\n",
    "        print(\"I am playing.\")\n",
    "\n",
    "c = Child()\n",
    "c.speak()  \n",
    "c.play()   \n"
   ]
  },
  {
   "cell_type": "code",
   "execution_count": null,
   "id": "d148a8f2",
   "metadata": {},
   "outputs": [],
   "source": [
    "class Animal:\n",
    "    def sound(self):\n",
    "        print(\"Some generic animal sound\")\n",
    "\n",
    "class Cat(Animal):\n",
    "    def sound(self):\n",
    "        print(\"Meow\")\n",
    "\n",
    "\n",
    "a = Animal()\n",
    "a.sound()  \n",
    "\n",
    "d = Cat()\n",
    "d.sound()  \n"
   ]
  },
  {
   "cell_type": "code",
   "execution_count": null,
   "id": "70130f7b",
   "metadata": {},
   "outputs": [],
   "source": [
    "class Animal:\n",
    "    def sound(self):\n",
    "        print(\"Some generic animal sound\")\n",
    "\n",
    "class Cat(Animal):\n",
    "    def sound(self):\n",
    "        super().sound()  \n",
    "        print(\"Meow\")\n",
    "\n",
    "d = Cat()\n",
    "d.sound()\n"
   ]
  },
  {
   "cell_type": "code",
   "execution_count": null,
   "id": "738715b6",
   "metadata": {},
   "outputs": [],
   "source": [
    "class Vehicle:\n",
    "    def __init__(self, brand):\n",
    "        self.brand = brand\n",
    "\n",
    "class Car(Vehicle):\n",
    "    def __init__(self, brand, model):\n",
    "        super().__init__(brand)  \n",
    "        self.model = model\n",
    "\n",
    "    def info(self):\n",
    "        print(f\"Brand: {self.brand}, Model: {self.model}\")\n",
    "\n",
    "c = Car(\"Renault\", \"Scenic\")\n",
    "c.info() \n"
   ]
  },
  {
   "cell_type": "code",
   "execution_count": null,
   "id": "3e036a89",
   "metadata": {},
   "outputs": [],
   "source": [
    "class A:\n",
    "    def greet(self):\n",
    "        print(\"Hello from situation\")\n",
    "\n",
    "class B(A):\n",
    "    def greet(self):\n",
    "        super().greet()\n",
    "        print(\"Hello from school\")\n",
    "\n",
    "class C(B):\n",
    "    def greet(self):\n",
    "        super().greet()\n",
    "        print(\"Hello from home\")\n",
    "\n",
    "c = C()\n",
    "c.greet()\n",
    "\n"
   ]
  }
 ],
 "metadata": {
  "language_info": {
   "name": "python"
  }
 },
 "nbformat": 4,
 "nbformat_minor": 5
}
