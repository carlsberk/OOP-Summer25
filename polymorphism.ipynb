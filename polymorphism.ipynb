{
 "cells": [
  {
   "cell_type": "code",
   "execution_count": null,
   "id": "3dfe1412",
   "metadata": {},
   "outputs": [],
   "source": [
    "class Animal:\n",
    "    def speak(self):\n",
    "        print(\"Animal sound\")\n",
    "\n",
    "class Dog(Animal):\n",
    "    def speak(self):\n",
    "        print(\"Woof!\")\n",
    "\n",
    "class Cat(Animal):\n",
    "    def speak(self):\n",
    "        print(\"Meow!\")\n",
    "\n",
    "animals = [Dog(), Cat()]\n",
    "for animal in animals:\n",
    "    animal.speak()\n"
   ]
  },
  {
   "cell_type": "code",
   "execution_count": null,
   "id": "f7f59dc0",
   "metadata": {},
   "outputs": [],
   "source": [
    "class Bird:\n",
    "    def fly(self):\n",
    "        print(\"Bird can fly.\")\n",
    "\n",
    "class Airplane:\n",
    "    def fly(self):\n",
    "        print(\"Airplane can fly.\")\n",
    "\n",
    "def fly_test(flying_thing):\n",
    "    flying_thing.fly()\n",
    "\n",
    "# Testing\n",
    "fly_test(Bird())\n",
    "fly_test(Airplane())\n"
   ]
  },
  {
   "cell_type": "code",
   "execution_count": null,
   "id": "38eb98cf",
   "metadata": {},
   "outputs": [],
   "source": [
    "print(len(\"Hello\"))    \n",
    "print(len([1, 2, 3]))  \n",
    "print(len((4, 5, 6)))  \n"
   ]
  },
  {
   "cell_type": "code",
   "execution_count": null,
   "id": "72c780f4",
   "metadata": {},
   "outputs": [],
   "source": [
    "class Duck:\n",
    "    def quack(self):\n",
    "        print(\"Quack!\")\n",
    "\n",
    "class Person:\n",
    "    def quack(self):\n",
    "        print(\"I can quack like a duck!\")\n",
    "\n",
    "def make_quack(thing):\n",
    "    thing.quack()\n",
    "\n",
    "make_quack(Duck())\n",
    "make_quack(Person())\n"
   ]
  },
  {
   "cell_type": "code",
   "execution_count": null,
   "id": "7b9b581a",
   "metadata": {},
   "outputs": [],
   "source": []
  }
 ],
 "metadata": {
  "language_info": {
   "name": "python"
  }
 },
 "nbformat": 4,
 "nbformat_minor": 5
}
